{
 "cells": [
  {
   "cell_type": "markdown",
   "id": "99953707",
   "metadata": {},
   "source": [
    "# Lernaufgabe 2: Hamming-Kodierung\n",
    "\n",
    "Sie kennen bereits die Hamming-Kodierung aus dem vorherigen Kapitel. Zur Vertiefung des Gelernten, und um`jupyter` kennenzulernen, implementieren Sie sie in dieser und den folgenden Lernaufgaben mit `python`.\n",
    "\n",
    "🤔 Doch wie funktioniert `jupyter`? Jede Datei in `jupyter` ist ein Notizbuch, *notebook* zu Englisch, welches aus *Zellen* aufgebaut ist. Jede Zelle kann entweder Text oder `python`-Code enthalten. Wenn Sie eine Code-Zelle anwählen, und die Tasten ⬆️ + ⏎ drücken, wird der Code in dieser Zelle ausgeführt, und das Resultat darunter angezeigt. Das Bemerkenswerte hierbei ist, dass die Berechnungen und deren Resultate aus einer Zelle in einer anderen Zelle weiterverarbeitet werden können.\n",
    "\n",
    "👏 Ihre Aufgabe ist nun jeweils, die Kommentare im Format `# TODO: ...` durch funktionierenden Code zu ersetzen."
   ]
  },
  {
   "cell_type": "markdown",
   "id": "e647d909",
   "metadata": {},
   "source": [
    "## Teilaufgabe 2.1\n",
    "\n",
    "Damit wir testen können, ob Ihre Implementierung am Ende auch tatsächlich funktioniert, müssen wir ein *Testgeschirr* haben; in unserem Fall die Simulation eines unsicheren Mediums sowie verschiedene Funktionen zur Kodierung und Dekodierung der Nachrichten. Nachfolgend verwenden wir folgende Terminologie:\n",
    "\n",
    "* Die Nachricht `message` ist ein Text, der für Menschen lesbar ist\n",
    "* Diese hat eine Repräsentation als `bits`, also eine Folge von `0` und `1`. In der nachfolgenden Implementation verwenden wir hierzu die Datenstruktur eines `bitarray`s, welche sich sehr ähnlich wie das Ihnen bereits bekannte `array` verhält.\n",
    "* In Anlehnung an die Erklärung mit dem Kartentrick aus dem Buch können wir diese `bits` auch als `table` darstellen, welches in unserem Fall ein `array` von `bitarray`s ist.\n",
    "\n",
    "⚠️ Der Fokus in diesem Kapitel liegt auf einem vertieften Verständnis der selbstkorrigierenden Kodierungen. Wir lassen darum das Problem der Suche nach einer optimalen Dartstellungsform der Nachricht außen vor, und nehmen für unsere Kartentrick-Tabelle immer eine fixe Anzahl von Spalten, nämlich `4`.\n",
    "\n",
    "In groben Zügen läuft der Test, ob die Hamming-Kodierung richtig implementiert wurde, wie folgt ab:\n",
    "\n",
    "1. Die natürlichsprachliche Nachricht `message` wird zu `bits` und zum `table` konvertiert\n",
    "2. Daraufhin wird sie kodiert (`encoded_...`)\n",
    "3. Für die Übertragung wird sie durch ein unzuverlässiges Medium geschickt, in welchem einige Bits verändert werden können (`corrupted_...`)\n",
    "4. Danach wird versucht, den Fehler zu korrigieren (`corrected_...`)\n",
    "5. Die `corrected_bits` und `corrected_table` werden zur `decoded_message` konvertiert"
   ]
  },
  {
   "cell_type": "code",
   "execution_count": 1,
   "id": "8bea5861",
   "metadata": {
    "scrolled": true
   },
   "outputs": [],
   "source": [
    "from bitarray import bitarray\n",
    "\n",
    "def message_to_bits(message):\n",
    "    \"\"\"\n",
    "    Konvertiert einen gegebenen string in seine Repräsentation als Reihe \n",
    "    von bits in Form eines bitarray.\n",
    "    \"\"\"\n",
    "    bits = bitarray()\n",
    "    bits.frombytes(message.encode(\"ascii\"))\n",
    "    return bits\n",
    "\n",
    "def bits_to_message(bits):\n",
    "    \"\"\"\n",
    "    Versucht eine Reihe von bits in Form eines bitarray in einen string zu konvertieren.\n",
    "    bit-Folgen, die keinem Symbol zugeordnet werden können, werden in ein � umgewandelt.\n",
    "    \"\"\"\n",
    "    bees = bits.tobytes()\n",
    "    message = \"\"\n",
    "    for bee in bees:\n",
    "        try:\n",
    "            message += bytes([bee]).decode(\"ascii\")\n",
    "        except:\n",
    "            message += \"�\"\n",
    "    return message\n",
    "\n",
    "assert message_to_bits(\"Hello\") == bitarray('0100100001100101011011000110110001101111')\n",
    "assert bits_to_message(bitarray('0100100001100101011011000110110001101111')) == \"Hello\""
   ]
  },
  {
   "cell_type": "markdown",
   "id": "76242bd4",
   "metadata": {},
   "source": [
    "In der obigen Zelle erhalten Sie zwei Helfer-Funktionen, welche Ihnen den Umgang mit bits erleichtern. Wir verwenden zur Darstellung von bit-Folgen die Bibliothek [`bitarray`](https://pypi.org/project/bitarray/), welche uns dem Umgang damit erleichtert. Den genauen Umgang damit müssen Sie nicht verstehen, es reicht aus zu wissen, dass Sie das $i$-te Element eines `bitarray` mit `bitarray[i]` - ganz so, wie Sie es sich von `array`s gewohnt sind, ansprechen können.\n",
    "\n",
    "Wenn Sie die Zelle ausführen, indem Sie die Tasten ⬆️ + ⏎ drücken, dann stehen Ihnen die Funktionen auch in nachfolgenden Code-Zellen zur Verfügung. \n",
    "\n",
    "☝️ Die `assert`-Befehle am Ende der Zelle können Sie als Miniatur-Testfälle begreifen. Diese beweisen, dass die Funktionen tatsächlich das tun, was Sie zu tun vorgeben. Der Befehl `assert x` gibt einen Fehler aus, falls `x`, welches hier für eine beliebige Überprüfung steht, `false` ist, und verhält sich sonst still."
   ]
  },
  {
   "cell_type": "code",
   "execution_count": 3,
   "id": "e7857326",
   "metadata": {},
   "outputs": [
    {
     "name": "stdout",
     "output_type": "stream",
     "text": [
      "bitarray('01001000011000010110110001101100011011110010000001010111011001010110110001110100')\n"
     ]
    },
    {
     "data": {
      "text/plain": [
       "bitarray('01001000011000010110110001101100011011110010000001010111011001010110110001110100')"
      ]
     },
     "execution_count": 3,
     "metadata": {},
     "output_type": "execute_result"
    }
   ],
   "source": [
    "# TODO: Benutzen Sie die Funktionen, um die bit-Folge für \"Hallo Welt\" herauszufinden,\n",
    "# indem Sie in diese Zelle hier den entsprechenden Code schreiben und mit ⬆️ + ⏎ ausführen.\n",
    "\n",
    "print(message_to_bits(\"Hallo Welt\"))\n",
    "# Eine Besonderheit von jupyter ist, dass Sie, im Gegensatz zu gewöhnlichem python\n",
    "# die Ausgabe der letzten Code-Zeile in einer Zelle in jedem Fall angezeigt bekommen.\n",
    "# Auch, wenn Sie keinen print()-Befehl verwenden!\n",
    "message_to_bits(\"Hallo Welt\")"
   ]
  },
  {
   "cell_type": "markdown",
   "id": "dec73dcb",
   "metadata": {},
   "source": [
    "## Teilaufgabe 2.2\n",
    "\n",
    "Nachfolgend erhalten Sie ein paar weitere Helfer-Funktionen, welche Sie nachfolgend benötigen werden. Hierbei legen wir bei unseren Nachrichten $m = m_0, m_1, m_2, ...$ fest, dass Sie wie folgt in Tabellen-Form übertragen werden (und vice-versa!).\n",
    "\n",
    "0️⃣ Falls die Nachricht nicht genau eine Länge $|m|\\mod{4} \\equiv 0$ hat, so werden die verbleibenden bits mit `0` aufgefüllt. Wird die Tabelle zurück in ein `bitarray` konvertiert, können diese `0` bedenkenlos beibehalten werden.\n",
    "\n",
    "| | | | |\n",
    "| --- | --- | --- | --- |\n",
    "| $m_0$ | $m_1$ | $m_2$ | $m_3$ |\n",
    "| $m_4$ | $m_5$ | $m_6$ | $m_7$ |\n",
    "| $m_8$ | $m_9$ | $m_{10}$ | $m_{11}$ |\n",
    "| $m_{12}$ | $0$ | $0$ | $0$ |"
   ]
  },
  {
   "cell_type": "code",
   "execution_count": 176,
   "id": "541209b5",
   "metadata": {},
   "outputs": [],
   "source": [
    "import math\n",
    "\n",
    "def empty_table(rows, columns):\n",
    "    \"\"\"\n",
    "    Erstellt eine leere Tabelle als Array von bitarray in den\n",
    "    Dimensionen rows ⨯ columns, und befüllt alle bits mit 0\n",
    "    \"\"\"\n",
    "    table = []\n",
    "    for i in range(0, rows):\n",
    "        row = bitarray(columns)\n",
    "        row.setall(0)\n",
    "        table.append(row)\n",
    "    return table\n",
    "\n",
    "def copy_table(tible):\n",
    "    \"\"\"\n",
    "    Erstellt eine Kopie von einer gegebenen Tabelle. Dies ist \n",
    "    beispielsweise nötig, wenn wir auf einer Tabelle Operationen\n",
    "    vornehmen möchten, aber uns ein unverändertes Original be-\n",
    "    halten möchten.\n",
    "    \"\"\"\n",
    "    table = []\n",
    "    for row in tible:\n",
    "        table.append(bitarray([ bit for bit in row ]))\n",
    "    return table\n",
    "\n",
    "def print_table(table):\n",
    "    \"\"\"\n",
    "    Ermöglicht uns, Tabellen einfach für einen Menschen\n",
    "    zu lesen darzustellen\n",
    "    \"\"\"\n",
    "    for row in table:\n",
    "        for bit in row:\n",
    "            print(bit, end=\" \")\n",
    "        print()\n",
    "    print()\n",
    "        \n",
    "def get_column(table, index):\n",
    "    \"\"\"\n",
    "    Liefert alle bits in einer Zeile einer Tabelle als bitarray zurück\n",
    "    \"\"\"\n",
    "    column = bitarray()\n",
    "    for row in table:\n",
    "        column.append(row[index])\n",
    "    return column\n",
    "\n",
    "def bits_to_table(bits, columns=4):\n",
    "    \"\"\"\n",
    "    Wandelt ein bitarray in eine Tabelle mit columns Spalten.\n",
    "    Falls kein columns-Wert angegeben wird, dann wird 4 als Standart-\n",
    "    Wert angenommen.\n",
    "    \"\"\"\n",
    "    rows = math.ceil(len(bits) / columns)\n",
    "    table = empty_table(rows, columns)\n",
    "        \n",
    "    for i, bit in enumerate(bits):\n",
    "        row = int(i / columns)\n",
    "        table[row][i % columns] = bit\n",
    "    return table\n",
    "\n",
    "def table_to_bits(table):\n",
    "    \"\"\"\n",
    "    Wandelt eine Tabelle in ein einzelnes bitarray um,\n",
    "    in dem es ein neues bitarray erstellt, und für jede Zeile\n",
    "    jedes bit anhängt.\n",
    "    \"\"\"\n",
    "    \n",
    "    # TODO: Vervollständigen Sie die nachfolgende Funktion.\n",
    "    # Verwenden Sie hierzu bits.append(). Die nachfolgenden\n",
    "    # assert-Befehle sollten keine Fehler mehr ausgeben.\n",
    "    bits = bitarray()\n",
    "    \n",
    "    for row in table:\n",
    "        for bit in row:\n",
    "            bits.append(bit)\n",
    "            \n",
    "    return bits\n",
    "\n",
    "table = empty_table(5, 5)\n",
    "assert len(table) == 5\n",
    "assert len(table[2]) == 5\n",
    "bits = bitarray('0100100001100101011011000110110001101111')\n",
    "table = bits_to_table(bits)\n",
    "assert len(table) == 10\n",
    "assert bits == table_to_bits(bits_to_table(bits))\n",
    "assert get_column(table,0) == bitarray('0100010101')"
   ]
  },
  {
   "cell_type": "markdown",
   "id": "38fc50dd",
   "metadata": {},
   "source": [
    "🙅‍♂️ Um ein Bit zu vertauschen, verwenden Sie den $\\oplus$-Operanden. In `python` wird dieser mit dem Zeichen `^` beschrieben!"
   ]
  },
  {
   "cell_type": "code",
   "execution_count": 186,
   "id": "a6ccb21c",
   "metadata": {},
   "outputs": [],
   "source": [
    "import random\n",
    "\n",
    "def corrupt_bits(bats, victim_count):\n",
    "    \n",
    "    # copy to keep original bits as they are\n",
    "    # since python passes by object reference\n",
    "    bits = bitarray([ bit for bit in bats ])\n",
    "    \n",
    "    for i in range(0, victim_count):\n",
    "        victim = random.randint(0, len(bits)-1)\n",
    "        bits[victim] ^= 1\n",
    "    return bits\n",
    "\n",
    "def corrupt_table(tible, victim_count):\n",
    "    \n",
    "    # copy to keep original bits as they are\n",
    "    # since python passes by object reference\n",
    "    table = copy_table(tible)\n",
    "    \n",
    "    for i in range(0, victim_count):\n",
    "        victim_row = random.randint(0, len(table)-1)\n",
    "        victim_column = random.randint(0, len(table[0])-1)\n",
    "        table[victim_row][victim_column] ^= 1\n",
    "    return table\n",
    "\n",
    "bits = bitarray('0100100001100101011011000110110001101111')\n",
    "assert not (bits == corrupt_bits(bits, 1))"
   ]
  },
  {
   "cell_type": "code",
   "execution_count": 174,
   "id": "adddd945",
   "metadata": {},
   "outputs": [
    {
     "data": {
      "application/vnd.jupyter.widget-view+json": {
       "model_id": "ca62b882073c4fbdbd5a344338494592",
       "version_major": 2,
       "version_minor": 0
      },
      "text/plain": [
       "interactive(children=(Text(value=\"Hello, my name is John Wayne and I'm here to blow your mind!\", description='…"
      ]
     },
     "metadata": {},
     "output_type": "display_data"
    }
   ],
   "source": [
    "from ipywidgets import interact, interactive, fixed, interact_manual\n",
    "import ipywidgets as widgets\n",
    "\n",
    "def transmit(message, unreliable):\n",
    "    bits = message_to_bits(message)\n",
    "    bats = corrupt_bits(bits, unreliable)\n",
    "    return bits_to_message(bats)\n",
    "\n",
    "message = \"Hello, my name is John Wayne and I'm here to blow your mind!\"\n",
    "interact(transmit, message=message, unreliable=(0,20));"
   ]
  },
  {
   "cell_type": "markdown",
   "id": "5271d3f2",
   "metadata": {},
   "source": [
    "## Teilaufgabe 2.2\n",
    "\n",
    "Nun dass wir unser Testgeschirr bereit haben, und testen können, ob unsere Kodierung auch tatsächlich Fehler erkennt und korrigiert, geht's an die Arbeit! Wir beginnen mit einer einfachen Implemetierung der Hamming-Kodierung, in welcher wir die Größe unserer \"Kartentrick-Tabelle\", wie Sie es aus dem Buch kennen, nicht optimal in Bezug auf die Länge der Kodierung wählen, sondern auf 4 Spalten fixieren. \n",
    "\n",
    "⚠️ Erinnern Sie sich, dass in der Mathematik das erste Element einer Nachricht mit $1$ bezeichnet wird, in `python` aber mit `0`! Wir verwenden nachfolgend Letzteres.\n",
    "\n",
    "Eine Nachricht $m$ der Länge $n=13$, beispielsweise, wird also wie folgt dargestellt. Bemerken Sie, wie die Nachricht mit $0$ aufgefüllt wird, um die Tabelle zu vervollständigen:\n",
    "\n",
    "| $c_0$ | $c_1$ | $c_2$ | $c_3$ | $c_{8*}$ |\n",
    "| --- | --- | --- | --- | --- |\n",
    "| $m_0$ | $m_1$ | $m_2$ | $m_3$ | $c_4$ |\n",
    "| $m_4$ | $m_5$ | $m_6$ | $m_7$ | $c_5$ |\n",
    "| $m_8$ | $m_9$ | $m_{10}$ | $m_{11}$ | $c_6$ |\n",
    "| $m_{12}$ | $0$ | $0$ | $0$ | $c_7$ |"
   ]
  },
  {
   "cell_type": "code",
   "execution_count": 88,
   "id": "d514054f",
   "metadata": {},
   "outputs": [],
   "source": [
    "import math\n",
    "\n",
    "def how_many_control_bits(bits):\n",
    "    columns = 4 + 1\n",
    "    rows = math.ceil(len(bits) / 4)\n",
    "    return columns + rows\n",
    "\n",
    "def how_many_message_bits(bits):\n",
    "    return ( len(bits) - 5 ) * 0.8\n",
    "\n",
    "# Wenn Sie keinen Fehler erhalten, dann stimmt Ihre Funktion vermutlich!\n",
    "assert how_many_control_bits(bitarray(\"1\")) == 6\n",
    "assert how_many_control_bits(bitarray(\"1000\")) == 6\n",
    "assert how_many_control_bits(bitarray(\"100011\")) == 7\n",
    "assert how_many_control_bits(bitarray(\"100010001000\")) == 8\n",
    "assert how_many_control_bits(bitarray(\"1000100010001\")) == 9"
   ]
  },
  {
   "cell_type": "markdown",
   "id": "6c2fd5a0",
   "metadata": {},
   "source": [
    "Zur Veranschaulichung nehmen Sie folgendes Beispiel:\n",
    "\n",
    "| $c_0=1$ | $c_1=0$ | $c_2=1$ | $c_3=1$ | $c_{8*}=1$ |\n",
    "| --- | --- | --- | --- | --- |\n",
    "| $0$ | $1$ | $1$ | $1$ | $c_4=1$ |\n",
    "| $1$ | $1$ | $0$ | $1$ | $c_5=1$ |\n",
    "| $1$ | $0$ | $0$ | $1$ | $c_6=0$ |\n",
    "| $1$ | $0$ | $0$ | $0$ | $c_7=1$ |\n",
    "\n",
    "Übertragen wird die kodierte Nachricht $m'$ in unserem Beispiel wie folgt:\n",
    "\n",
    "| | | | | | \n",
    "| --- | --- | --- | --- | --- |\n",
    "| $m'_0=c_0=1$ | $m'_1=c_1=0$ | $m'_2=c_2=1$ | $m'_3=c_3=1$ | $m'_4=c_{8*}=1$ |\n",
    "| $m'_5=m_0=0$ | $m'_6=m_1=1$ | $m'_7=m_2=1$ | $m'_8=m_3=1$ | $m'_9=c_4=1$ |\n",
    "| $m'_{10}=m_4=1$ | $m'_{11}=m_5=1$ | $m'_{12}=m_6=0$ | $m'_{13}=m_7=1$ | $etc...$ |"
   ]
  },
  {
   "cell_type": "code",
   "execution_count": 112,
   "id": "3bcdeb70",
   "metadata": {},
   "outputs": [],
   "source": [
    "def encode(table):\n",
    "    encoded_rows = len(table) + 1\n",
    "    encoded_columns = 5\n",
    "    encoded_table = empty_table(encoded_rows, encoded_columns)\n",
    "    \n",
    "    for r, row in enumerate(table):\n",
    "        for c, bit in enumerate(row):\n",
    "            encoded_table[r+1][c] = bit\n",
    "            encoded_table[r+1][4] ^= bit\n",
    "    \n",
    "    for row in encoded_table[1:]:\n",
    "        for column in range(0, encoded_columns):\n",
    "            encoded_table[0][column] ^= row[column]\n",
    "            \n",
    "    return encoded_table\n",
    "\n",
    "def decode(encoded_table):\n",
    "    decoded_table = []\n",
    "    for row in encoded_table[1:]:\n",
    "        decoded_table.append(row[:-1])\n",
    "    return decoded_table\n",
    "    \n",
    "bits = bitarray('0111110110011000')\n",
    "table = bits_to_table(bits)\n",
    "assert encode(table)[0] == bitarray('10111')\n",
    "assert decode(encode(table)) == table"
   ]
  },
  {
   "cell_type": "code",
   "execution_count": 179,
   "id": "e8411198",
   "metadata": {},
   "outputs": [],
   "source": [
    "def is_paris(bits):\n",
    "    parity = 1\n",
    "    for bit in bits:\n",
    "        parity ^= bit\n",
    "    return parity\n",
    "\n",
    "def correct(tible):\n",
    "    \n",
    "    # copy to keep original bits as they are\n",
    "    # since python passes by object reference\n",
    "    table = copy_table(tible)\n",
    "    \n",
    "    for r, row in enumerate(table):\n",
    "        if not is_paris(row):\n",
    "            for c in range(0, len(row)):\n",
    "                column = get_column(table, c)\n",
    "                if not is_paris(column):\n",
    "                    table[r][c] ^= 1\n",
    "                    break\n",
    "    return table\n",
    "\n",
    "table = bits_to_table(bitarray(\"1011101111110111001010001\"), 5)\n",
    "assert table == correct(corrupt_table(table, 1))"
   ]
  },
  {
   "cell_type": "code",
   "execution_count": 193,
   "id": "ee47d06d",
   "metadata": {},
   "outputs": [
    {
     "name": "stdout",
     "output_type": "stream",
     "text": [
      "You entered:\t\t'I'm John Wyne'\n",
      "After transmission:\t'H'm John Wyne'\n",
      "With correction:\t'I'm John Wyne'\n"
     ]
    },
    {
     "data": {
      "application/vnd.jupyter.widget-view+json": {
       "model_id": "c9598eec2c0c4e78b05975b6d5baa060",
       "version_major": 2,
       "version_minor": 0
      },
      "text/plain": [
       "interactive(children=(Text(value=\"Hello, my name is John Wayne and I'm here to blow your mind!\", description='…"
      ]
     },
     "metadata": {},
     "output_type": "display_data"
    }
   ],
   "source": [
    "from ipywidgets import interact, interactive, fixed, interact_manual\n",
    "import ipywidgets as widgets\n",
    "\n",
    "def test_encoding(message, unreliable):\n",
    "    table = bits_to_table(message_to_bits(message), 4)\n",
    "    encoded = encode(table)\n",
    "    \n",
    "    corrupted = corrupt_table(encoded, unreliable)\n",
    "    corrected = correct(corrupted)\n",
    "    \n",
    "    print(f\"You entered:\\t\\t'{message}'\")\n",
    "    print(f\"After transmission:\\t'{bits_to_message(table_to_bits(decode(corrupted)))}'\")\n",
    "    print(f\"With correction:\\t'{bits_to_message(table_to_bits(decode(corrected)))}'\")\n",
    "    \n",
    "test_encoding(\"I'm John Wyne\", 1)\n",
    "\n",
    "message = \"Hello, my name is John Wayne and I'm here to blow your mind!\"\n",
    "interact(test_encoding, message=message, unreliable=(0,5));"
   ]
  },
  {
   "cell_type": "code",
   "execution_count": null,
   "id": "b37ff3db",
   "metadata": {},
   "outputs": [],
   "source": []
  }
 ],
 "metadata": {
  "kernelspec": {
   "display_name": "Python 3 (ipykernel)",
   "language": "python",
   "name": "python3"
  },
  "language_info": {
   "codemirror_mode": {
    "name": "ipython",
    "version": 3
   },
   "file_extension": ".py",
   "mimetype": "text/x-python",
   "name": "python",
   "nbconvert_exporter": "python",
   "pygments_lexer": "ipython3",
   "version": "3.9.15"
  }
 },
 "nbformat": 4,
 "nbformat_minor": 5
}
