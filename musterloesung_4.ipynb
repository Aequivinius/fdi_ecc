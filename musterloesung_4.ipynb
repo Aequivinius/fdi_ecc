{
 "cells": [
  {
   "cell_type": "markdown",
   "id": "99953707",
   "metadata": {},
   "source": [
    "# Lernaufgabe 4: Hamming-Kodierung\n",
    "\n",
    "👏 Ihre Aufgabe ist jeweils, die Kommentare im Format `# TODO: ...` durch funktionierenden Code zu ersetzen. Führen Sie aber zunächst wieder die folgende Code-Zelle aus, damit Sie auf die nötigen Hilfs-Funktionen zugreifen können."
   ]
  },
  {
   "cell_type": "code",
   "execution_count": 1,
   "id": "f3594837",
   "metadata": {},
   "outputs": [],
   "source": [
    "from bitarray import bitarray\n",
    "import math\n",
    "import random\n",
    "from helpers import *"
   ]
  },
  {
   "cell_type": "markdown",
   "id": "5271d3f2",
   "metadata": {},
   "source": [
    "## Teilaufgabe 4.1\n",
    "\n",
    "Nun dass wir unser Testgeschirr bereit haben, und testen können, ob unsere Kodierung auch tatsächlich Fehler erkennt und korrigiert, geht's an die Arbeit! Wir beginnen mit einer einfachen Implementierung der Hamming-Kodierung, in welcher wir die Größe unserer \"Kartentrick-Tabelle\", wie Sie es aus dem Buch kennen, nicht optimal in Bezug auf die Länge der Kodierung wählen, sondern auf 4 Spalten fixieren. \n",
    "\n",
    "Eine Nachricht $m$ der Länge $n=13$, beispielsweise, wird also wie folgt dargestellt. Bemerken Sie, wie die Nachricht mit $0$ aufgefüllt wird, um die Tabelle zu vervollständigen:\n",
    "\n",
    "| $c_0$ | $c_1$ | $c_2$ | $c_3$ | $c_{8*}$ |\n",
    "| --- | --- | --- | --- | --- |\n",
    "| $m_0$ | $m_1$ | $m_2$ | $m_3$ | $c_4$ |\n",
    "| $m_4$ | $m_5$ | $m_6$ | $m_7$ | $c_5$ |\n",
    "| $m_8$ | $m_9$ | $m_{10}$ | $m_{11}$ | $c_6$ |\n",
    "| $m_{12}$ | $0$ | $0$ | $0$ | $c_7$ |"
   ]
  },
  {
   "cell_type": "code",
   "execution_count": 2,
   "id": "d514054f",
   "metadata": {},
   "outputs": [],
   "source": [
    "def how_many_control_bits(bits, columns=4):\n",
    "    \"\"\"\n",
    "    Gegeben ein bitarray einer gewissen Länge,\n",
    "    wieviele Kontroll-Bits brauchen Sie, wenn Sie\n",
    "    eine Kartentrick-Tabelle mit columns Spalten wählen.\n",
    "    \"\"\"\n",
    "    \n",
    "    # TODO: Fügen Sie Ihre Berechnung hier ein\n",
    "    rows = math.ceil(len(bits) / columns)\n",
    "    return columns + 1 + rows\n",
    "\n",
    "def how_many_message_bits(bits, columns=4):\n",
    "    \"\"\"\n",
    "    Gegeben ein bitarray, von welchem wir wissen,\n",
    "    dass es bereits Hamming-kodiert wurde mit 4 Spalten, \n",
    "    wieviele bits lang ist die eigentliche Nachricht ohne\n",
    "    Kontroll-Bits?\n",
    "    \"\"\"\n",
    "    return ( len(bits) - 5 ) * 0.8\n",
    "\n",
    "# Wenn Sie keinen Fehler erhalten, dann stimmt Ihre Funktion vermutlich!\n",
    "assert how_many_control_bits(bitarray(\"1\")) == 6\n",
    "assert how_many_control_bits(bitarray(\"1000\")) == 6\n",
    "assert how_many_control_bits(bitarray(\"100011\")) == 7\n",
    "assert how_many_control_bits(bitarray(\"100010001000\")) == 8\n",
    "assert how_many_control_bits(bitarray(\"1000100010001\")) == 9"
   ]
  },
  {
   "cell_type": "markdown",
   "id": "6c2fd5a0",
   "metadata": {},
   "source": [
    "## Teilaufgabe 4.2\n",
    "\n",
    "Zur Veranschaulichung nehmen Sie folgendes Beispiel:\n",
    "\n",
    "| $c_0=1$ | $c_1=0$ | $c_2=1$ | $c_3=1$ | $c_{8*}=1$ |\n",
    "| --- | --- | --- | --- | --- |\n",
    "| $0$ | $1$ | $1$ | $1$ | $c_4=1$ |\n",
    "| $1$ | $1$ | $0$ | $1$ | $c_5=1$ |\n",
    "| $1$ | $0$ | $0$ | $1$ | $c_6=0$ |\n",
    "| $1$ | $0$ | $0$ | $0$ | $c_7=1$ |\n",
    "\n",
    "Übertragen wird die kodierte Nachricht $m'$ in unserem Beispiel wie folgt:\n",
    "\n",
    "| | | | | | \n",
    "| --- | --- | --- | --- | --- |\n",
    "| $m'_0=c_0=1$ | $m'_1=c_1=0$ | $m'_2=c_2=1$ | $m'_3=c_3=1$ | $m'_4=c_{8*}=1$ |\n",
    "| $m'_5=m_0=0$ | $m'_6=m_1=1$ | $m'_7=m_2=1$ | $m'_8=m_3=1$ | $m'_9=c_4=1$ |\n",
    "| $m'_{10}=m_4=1$ | $m'_{11}=m_5=1$ | $m'_{12}=m_6=0$ | $m'_{13}=m_7=1$ | $etc...$ |\n",
    "\n",
    "🙅‍♂️ Erinnern Sie sich daran, wie Sie in `python` die $\\oplus$-Operation durchführen. Um die Parität einer Folge von Bits $m = m_0, m_1, m_2, ..., m_n$ zu berechnen, reicht es, $m_0 \\oplus m_1 \\oplus m_2 \\oplus ... \\oplus m_n$ zu berechnen. Sie können sich jederzeit die Resultate Ihrer Arbeit mittels der `print_table()`-Funktion darstellen lassen."
   ]
  },
  {
   "cell_type": "code",
   "execution_count": 3,
   "id": "3bcdeb70",
   "metadata": {},
   "outputs": [],
   "source": [
    "def encode(table):\n",
    "    \"\"\"\n",
    "    Berechnet die Hamming-Kodierung für eine gegebene Tabelle,\n",
    "    indem es eine neue, größe Tabelle erstellt, und die Kontroll-Bits\n",
    "    in der Zeile mit Index 0 der neuen Tabelle und Spalte mit Index 4\n",
    "    einfügt.\n",
    "    \"\"\"\n",
    "    \n",
    "    # TODO: Erstellen Sie zunächst eine neue Tabelle mittels empty_table(),\n",
    "    # welche um eine Spalte und eine Zeile größer als die Eingabe-Tabelle ist\n",
    "    encoded_rows = len(table) + 1\n",
    "    encoded_columns = 5\n",
    "    encoded_table = empty_table(encoded_rows, encoded_columns)\n",
    "    \n",
    "    # TODO: Berechnen Sie dann die Kontroll-Bits für die neue\n",
    "    # Spalte mit dem Index 4, und kopieren Sie die bestehenden\n",
    "    # Werte an die richtige Stelle in der neuen Tabelle.\n",
    "    for r, row in enumerate(table):\n",
    "        for c, bit in enumerate(row):\n",
    "            encoded_table[r+1][c] = bit\n",
    "            encoded_table[r+1][4] ^= bit\n",
    "    \n",
    "    # TODO: Berechnen Sie nun die Kontroll-Bits in der \n",
    "    # Zeile mit Index 0 in der neuen Tabelle\n",
    "    for row in encoded_table[1:]:\n",
    "        for column in range(0, encoded_columns):\n",
    "            encoded_table[0][column] ^= row[column]\n",
    "            \n",
    "    return encoded_table\n",
    "\n",
    "def decode(encoded_table):\n",
    "    \"\"\"\n",
    "    Extrahiert aus einer Hamming-kodierten Tabelle die\n",
    "    ursprüngliche Tabelle, indem Kopf-Zeile und die Spalte\n",
    "    ganz rechts weggelassen werden.\n",
    "    \"\"\"\n",
    "    decoded_table = []\n",
    "    for row in encoded_table[1:]:\n",
    "        decoded_table.append(row[:-1])\n",
    "    return decoded_table\n",
    "    \n",
    "bits = bitarray('0111110110011000')\n",
    "table = bits_to_table(bits)\n",
    "assert encode(table)[0] == bitarray('10111')\n",
    "assert decode(encode(table)) == table"
   ]
  },
  {
   "cell_type": "markdown",
   "id": "144a5724",
   "metadata": {},
   "source": [
    "## Teilaufgabe 4.3\n",
    "\n",
    "Die Frage ist nun: Funktioniert das denn wirklich? Finden wir es heraus!"
   ]
  },
  {
   "cell_type": "code",
   "execution_count": 4,
   "id": "e8411198",
   "metadata": {},
   "outputs": [],
   "source": [
    "def is_paris(bits):\n",
    "    \"\"\"\n",
    "    Berechnet die Parität für eine bit-Folge\n",
    "    \"\"\"\n",
    "    parity = 1\n",
    "    for bit in bits:\n",
    "        parity ^= bit\n",
    "    return parity\n",
    "\n",
    "def correct(tible):\n",
    "    \"\"\"\n",
    "    Erstellt eine neue Tabelle, in welcher ein Fehler in einer\n",
    "    Hamming-kodierten Tabelle korrigiert wurden.\n",
    "    \"\"\"\n",
    "    \n",
    "    table = copy_table(tible)\n",
    "    \n",
    "    # TODO: Iterieren Sie durch alle Zeilen, und überprüfen Sie\n",
    "    # die Parität der jeweilige Zeile. Falls diese 0 ist, dann \n",
    "    # überprüfen Sie alle Spalten (get_column() hilft Ihnen dabei)\n",
    "    # und finden so das fehlerhafte Bit. \n",
    "    for r, row in enumerate(table):\n",
    "        if not is_paris(row):\n",
    "            for c in range(0, len(row)):\n",
    "                column = get_column(table, c)\n",
    "                if not is_paris(column):\n",
    "                    table[r][c] ^= 1\n",
    "                    break\n",
    "    return table\n",
    "\n",
    "table = bits_to_table(bitarray(\"1011101111110111001010001\"), 5)\n",
    "assert table == correct(corrupt_table(table, 1))"
   ]
  },
  {
   "cell_type": "markdown",
   "id": "23613c8e",
   "metadata": {},
   "source": [
    "## Abschluss\n",
    "\n",
    "Vergleichen Sie nun, welchen Effekt die Hamming-Kodierung bei einem unsicheren Medium hat!"
   ]
  },
  {
   "cell_type": "code",
   "execution_count": 6,
   "id": "ee47d06d",
   "metadata": {},
   "outputs": [
    {
     "data": {
      "application/vnd.jupyter.widget-view+json": {
       "model_id": "74c608d5ad64403387bafb34da4d61b3",
       "version_major": 2,
       "version_minor": 0
      },
      "text/plain": [
       "interactive(children=(Text(value=\"Hello, my name is John Wayne and I'm here to blow your mind!\", description='…"
      ]
     },
     "metadata": {},
     "output_type": "display_data"
    }
   ],
   "source": [
    "from ipywidgets import interact, interactive, fixed, interact_manual\n",
    "import ipywidgets as widgets\n",
    "\n",
    "def test_encoding(message, unreliable):\n",
    "    table = bits_to_table(message_to_bits(message), 4)\n",
    "    encoded = encode(table)\n",
    "    \n",
    "    corrupted = corrupt_table(encoded, unreliable)\n",
    "    corrected = correct(corrupted)\n",
    "    \n",
    "    print(f\"You entered:\\t\\t'{message}'\")\n",
    "    print(f\"After transmission:\\t'{bits_to_message(table_to_bits(decode(corrupted)))}'\")\n",
    "    print(f\"With correction:\\t'{bits_to_message(table_to_bits(decode(corrected)))}'\")\n",
    "    \n",
    "message = \"Hello, my name is John Wayne and I'm here to blow your mind!\"\n",
    "interact(test_encoding, message=message, unreliable=(0,5));"
   ]
  },
  {
   "cell_type": "code",
   "execution_count": null,
   "id": "b37ff3db",
   "metadata": {},
   "outputs": [],
   "source": []
  }
 ],
 "metadata": {
  "kernelspec": {
   "display_name": "Python 3 (ipykernel)",
   "language": "python",
   "name": "python3"
  },
  "language_info": {
   "codemirror_mode": {
    "name": "ipython",
    "version": 3
   },
   "file_extension": ".py",
   "mimetype": "text/x-python",
   "name": "python",
   "nbconvert_exporter": "python",
   "pygments_lexer": "ipython3",
   "version": "3.9.15"
  }
 },
 "nbformat": 4,
 "nbformat_minor": 5
}
