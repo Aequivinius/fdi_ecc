{
 "cells": [
  {
   "cell_type": "markdown",
   "id": "99953707",
   "metadata": {},
   "source": [
    "# Lernaufgabe 3: Hamming-Kodierung\n",
    "\n",
    "👏 Ihre Aufgabe ist jeweils, die Kommentare im Format `# TODO: ...` durch funktionierenden Code zu ersetzen. Führen Sie jedoch zunächst die folgende Code-Zelle aus, damit Sie die in der letzten Lernaufgabe erarbeiteten Funktionen auch in diesem Notizbuch zur Verfügung stehend haben."
   ]
  },
  {
   "cell_type": "code",
   "execution_count": 4,
   "id": "f3594837",
   "metadata": {},
   "outputs": [],
   "source": [
    "from bitarray import bitarray\n",
    "import math \n",
    "from helpers import message_to_bits, bits_to_message, empty_table, copy_table"
   ]
  },
  {
   "cell_type": "markdown",
   "id": "38fc50dd",
   "metadata": {},
   "source": [
    "Wir brauchen noch eine weitere Funktion, um unsere Kodierung testen zu können: Das unzuverlässige Medium! Wir wissen zwar bereits, dass die Hamming-Kodierung $1$-fehlerkorrigierend ist, doch wollen wir das nun verdeutlichen.\n",
    "\n",
    "🙅‍♂️ Um ein Bit zu vertauschen, verwenden Sie den $\\oplus$-Operanden. In `python` wird dieser mit dem Zeichen `^` beschrieben: `0 ^ 1` gibt `1`, und `x ^= 1` ändert (engl. *flips*) den Wert von `x`. Sie werden das in den nachfolgenden Aufgaben benötigen!"
   ]
  },
  {
   "cell_type": "code",
   "execution_count": 7,
   "id": "a6ccb21c",
   "metadata": {},
   "outputs": [
    {
     "ename": "NameError",
     "evalue": "name 'bitarray' is not defined",
     "output_type": "error",
     "traceback": [
      "\u001b[0;31m---------------------------------------------------------------------------\u001b[0m",
      "\u001b[0;31mNameError\u001b[0m                                 Traceback (most recent call last)",
      "Cell \u001b[0;32mIn[7], line 37\u001b[0m\n\u001b[1;32m     34\u001b[0m         table[victim_row][victim_column] \u001b[38;5;241m^\u001b[39m\u001b[38;5;241m=\u001b[39m \u001b[38;5;241m1\u001b[39m\n\u001b[1;32m     35\u001b[0m     \u001b[38;5;28;01mreturn\u001b[39;00m table\n\u001b[0;32m---> 37\u001b[0m bits \u001b[38;5;241m=\u001b[39m \u001b[43mbitarray\u001b[49m(\u001b[38;5;124m'\u001b[39m\u001b[38;5;124m0100100001100101011011000110110001101111\u001b[39m\u001b[38;5;124m'\u001b[39m)\n\u001b[1;32m     38\u001b[0m \u001b[38;5;28;01massert\u001b[39;00m \u001b[38;5;129;01mnot\u001b[39;00m (bits \u001b[38;5;241m==\u001b[39m corrupt_bits(bits, \u001b[38;5;241m1\u001b[39m))\n",
      "\u001b[0;31mNameError\u001b[0m: name 'bitarray' is not defined"
     ]
    }
   ],
   "source": [
    "import random\n",
    "\n",
    "def corrupt_bits(bats, victim_count):\n",
    "    \"\"\"\n",
    "    Sucht sich zufällig victim_count-viele bits aus\n",
    "    und ändert deren Werte. Damit das ursprüngliche\n",
    "    bitarray unverändert bleibt, machen wir uns zunächst\n",
    "    erst eine Kopie davon, auf welcher wir dann nachfolgend \n",
    "    arbeiten und welche wir zurückgeben.\n",
    "    \"\"\"\n",
    "    bits = bitarray([ bit for bit in bats ])\n",
    "    \n",
    "    # TODO: Ändern Sie nun die entsprechende Anzahl bits\n",
    "\n",
    "    return bits\n",
    "\n",
    "def corrupt_table(tible, victim_count):\n",
    "    \"\"\"\n",
    "    Sucht sich zufällig victim_count-viele bits aus\n",
    "    und ändert deren Werte. Damit die ursprüngliche\n",
    "    Tabelle unverändert bleibt, machen wir uns zunächst\n",
    "    erst eine Kopie davon, auf welcher wir dann nachfolgend \n",
    "    arbeiten und welche wir zurückgeben.\n",
    "    \"\"\"\n",
    "\n",
    "    table = copy_table(tible)\n",
    "    \n",
    "    # TODO: Ändern Sie nun die entsprechende Anzahl bits\n",
    "\n",
    "    return table\n",
    "\n",
    "bits = bitarray('0100100001100101011011000110110001101111')\n",
    "assert not (bits == corrupt_bits(bits, 1))"
   ]
  },
  {
   "cell_type": "markdown",
   "id": "860647f7",
   "metadata": {},
   "source": [
    "👀 Wenn Sie diese Funktionien richtig implementiert haben, können wir diese für eine Veranschaulichung verwenden. Die nächste Zelle erstellt einen Balken, welcher Ihre `corrupt_bits`-Funktion aufruft, immer wenn er bewegt wird. So können Sie sehen, welchen Effekt ein unzuverlässiges Medium ohne Gegenmaßnahme (wie etwa die Hamming-Kodierung) hat!"
   ]
  },
  {
   "cell_type": "code",
   "execution_count": 2,
   "id": "adddd945",
   "metadata": {},
   "outputs": [
    {
     "data": {
      "application/vnd.jupyter.widget-view+json": {
       "model_id": "6d2dad0a37584dbeb15a0db84d97a872",
       "version_major": 2,
       "version_minor": 0
      },
      "text/plain": [
       "interactive(children=(Text(value=\"Hello, my name is John Wayne and I'm here to blow your mind!\", description='…"
      ]
     },
     "metadata": {},
     "output_type": "display_data"
    }
   ],
   "source": [
    "from ipywidgets import interact, interactive, fixed, interact_manual\n",
    "import ipywidgets as widgets\n",
    "\n",
    "def transmit(message, unreliable):\n",
    "    bits = message_to_bits(message)\n",
    "    bats = corrupt_bits(bits, unreliable)\n",
    "    return bits_to_message(bats)\n",
    "\n",
    "message = \"Hello, my name is John Wayne and I'm here to blow your mind!\"\n",
    "interact(transmit, message=message, unreliable=(0,20));"
   ]
  }
 ],
 "metadata": {
  "kernelspec": {
   "display_name": "Python 3 (ipykernel)",
   "language": "python",
   "name": "python3"
  },
  "language_info": {
   "codemirror_mode": {
    "name": "ipython",
    "version": 3
   },
   "file_extension": ".py",
   "mimetype": "text/x-python",
   "name": "python",
   "nbconvert_exporter": "python",
   "pygments_lexer": "ipython3",
   "version": "3.9.15"
  }
 },
 "nbformat": 4,
 "nbformat_minor": 5
}
