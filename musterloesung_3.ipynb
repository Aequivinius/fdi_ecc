{
 "cells": [
  {
   "cell_type": "markdown",
   "id": "99953707",
   "metadata": {},
   "source": [
    "# Lernaufgabe 3: Hamming-Kodierung\n",
    "\n",
    "👏 Ihre Aufgabe ist jeweils, die Kommentare im Format `# TODO: ...` durch funktionierenden Code zu ersetzen. Führen Sie jedoch zunächst die folgende Code-Zelle aus, damit Sie die in der letzten Lernaufgabe erarbeiteten Funktionen auch in diesem Notizbuch zur Verfügung stehend haben."
   ]
  },
  {
   "cell_type": "code",
   "execution_count": 10,
   "id": "6b9bc8b8",
   "metadata": {},
   "outputs": [],
   "source": [
    "from bitarray import bitarray\n",
    "import math \n",
    "from helpers import message_to_bits, bits_to_message, empty_table, copy_table"
   ]
  },
  {
   "cell_type": "markdown",
   "id": "38fc50dd",
   "metadata": {},
   "source": [
    "Wir brauchen noch eine weitere Funktion, um unsere Kodierung testen zu können: Das unzuverlässige Medium! Wir wissen zwar bereits, dass die Hamming-Kodierung $1$-fehlerkorrigierend ist, doch wollen wir das nun verdeutlichen.\n",
    "\n",
    "🙅‍♂️ Um ein Bit zu vertauschen, verwenden Sie den $\\oplus$-Operanden. In `python` wird dieser mit dem Zeichen `^` beschrieben: `0 ^ 1` gibt `1`, und `x ^= 1` ändert (engl. *flips*) den Wert von `x`. Sie werden das in den nachfolgenden Aufgaben benötigen!"
   ]
  },
  {
   "cell_type": "code",
   "execution_count": 13,
   "id": "a6ccb21c",
   "metadata": {},
   "outputs": [],
   "source": [
    "import random\n",
    "\n",
    "def corrupt_bits(bats, victim_count):\n",
    "    \"\"\"\n",
    "    Sucht sich zufällig victim_count-viele bits aus\n",
    "    und ändert deren Werte. Damit das ursprüngliche\n",
    "    bitarray unverändert bleibt, machen wir uns zunächst\n",
    "    erst eine Kopie davon, auf welcher wir dann nachfolgend \n",
    "    arbeiten und welche wir zurückgeben.\n",
    "    \"\"\"\n",
    "    bits = bitarray([ bit for bit in bats ])\n",
    "    \n",
    "    # TODO: Ändern Sie nun die entsprechende Anzahl bits\n",
    "    for i in range(0, victim_count):\n",
    "        victim = random.randint(0, len(bits)-1)\n",
    "        bits[victim] ^= 1\n",
    "    return bits\n",
    "\n",
    "def corrupt_table(tible, victim_count):\n",
    "    \"\"\"\n",
    "    Sucht sich zufällig victim_count-viele bits aus\n",
    "    und ändert deren Werte. Damit die ursprüngliche\n",
    "    Tabelle unverändert bleibt, machen wir uns zunächst\n",
    "    erst eine Kopie davon, auf welcher wir dann nachfolgend \n",
    "    arbeiten und welche wir zurückgeben.\n",
    "    \"\"\"\n",
    "\n",
    "    table = copy_table(tible)\n",
    "    \n",
    "    # TODO: Ändern Sie nun die entsprechende Anzahl bits\n",
    "    for i in range(0, victim_count):\n",
    "        victim_row = random.randint(0, len(table)-1)\n",
    "        victim_column = random.randint(0, len(table[0])-1)\n",
    "        table[victim_row][victim_column] ^= 1\n",
    "    return table\n",
    "\n",
    "bits = bitarray('0100100001100101011011000110110001101111')\n",
    "assert not (bits == corrupt_bits(bits, 1))"
   ]
  },
  {
   "cell_type": "markdown",
   "id": "fcd1f367",
   "metadata": {},
   "source": [
    "👀 Wenn Sie diese Funktionien richtig implementiert haben, können wir diese für eine Veranschaulichung verwenden. Die nächste Zelle erstellt einen Balken, welcher Ihre `corrupt_bits`-Funktion aufruft, immer wenn er bewegt wird. So können Sie sehen, welchen Effekt ein unzuverlässiges Medium ohne Gegenmaßnahme (wie etwa die Hamming-Kodierung) hat!"
   ]
  },
  {
   "cell_type": "code",
   "execution_count": 12,
   "id": "adddd945",
   "metadata": {},
   "outputs": [
    {
     "data": {
      "application/vnd.jupyter.widget-view+json": {
       "model_id": "6049824350f840e5ada5c39b91dae895",
       "version_major": 2,
       "version_minor": 0
      },
      "text/plain": [
       "interactive(children=(Text(value=\"Hello, my name is John Wayne and I'm here to blow your mind!\", description='…"
      ]
     },
     "metadata": {},
     "output_type": "display_data"
    }
   ],
   "source": [
    "from ipywidgets import interact, interactive, fixed, interact_manual\n",
    "import ipywidgets as widgets\n",
    "\n",
    "def transmit(message, unreliable):\n",
    "    bits = message_to_bits(message)\n",
    "    bats = corrupt_bits(bits, unreliable)\n",
    "    return bits_to_message(bats)\n",
    "\n",
    "message = \"Hello, my name is John Wayne and I'm here to blow your mind!\"\n",
    "interact(transmit, message=message, unreliable=(0,20));"
   ]
  }
 ],
 "metadata": {
  "kernelspec": {
   "display_name": "Python 3 (ipykernel)",
   "language": "python",
   "name": "python3"
  },
  "language_info": {
   "codemirror_mode": {
    "name": "ipython",
    "version": 3
   },
   "file_extension": ".py",
   "mimetype": "text/x-python",
   "name": "python",
   "nbconvert_exporter": "python",
   "pygments_lexer": "ipython3",
   "version": "3.9.15"
  }
 },
 "nbformat": 4,
 "nbformat_minor": 5
}
